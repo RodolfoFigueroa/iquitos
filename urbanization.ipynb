{
 "cells": [
  {
   "cell_type": "code",
   "execution_count": 16,
   "id": "6fc278aa",
   "metadata": {},
   "outputs": [
    {
     "data": {
      "text/html": [
       "\n",
       "            <style>\n",
       "                .geemap-dark {\n",
       "                    --jp-widgets-color: white;\n",
       "                    --jp-widgets-label-color: white;\n",
       "                    --jp-ui-font-color1: white;\n",
       "                    --jp-layout-color2: #454545;\n",
       "                    background-color: #383838;\n",
       "                }\n",
       "\n",
       "                .geemap-dark .jupyter-button {\n",
       "                    --jp-layout-color3: #383838;\n",
       "                }\n",
       "\n",
       "                .geemap-colab {\n",
       "                    background-color: var(--colab-primary-surface-color, white);\n",
       "                }\n",
       "\n",
       "                .geemap-colab .jupyter-button {\n",
       "                    --jp-layout-color3: var(--colab-primary-surface-color, white);\n",
       "                }\n",
       "            </style>\n",
       "            "
      ],
      "text/plain": [
       "<IPython.core.display.HTML object>"
      ]
     },
     "metadata": {},
     "output_type": "display_data"
    }
   ],
   "source": [
    "import os\n",
    "from pathlib import Path\n",
    "\n",
    "import ee\n",
    "import geemap\n",
    "import geopandas as gpd\n",
    "import matplotlib.pyplot as plt\n",
    "import matplotlib.ticker as mtick\n",
    "import numpy as np\n",
    "import pandas as pd\n",
    "import rasterio as rio\n",
    "import rasterio.mask as rio_mask\n",
    "import seaborn as sns"
   ]
  },
  {
   "cell_type": "code",
   "execution_count": 17,
   "id": "3ef7fcdf",
   "metadata": {},
   "outputs": [
    {
     "data": {
      "text/html": [
       "\n",
       "            <style>\n",
       "                .geemap-dark {\n",
       "                    --jp-widgets-color: white;\n",
       "                    --jp-widgets-label-color: white;\n",
       "                    --jp-ui-font-color1: white;\n",
       "                    --jp-layout-color2: #454545;\n",
       "                    background-color: #383838;\n",
       "                }\n",
       "\n",
       "                .geemap-dark .jupyter-button {\n",
       "                    --jp-layout-color3: #383838;\n",
       "                }\n",
       "\n",
       "                .geemap-colab {\n",
       "                    background-color: var(--colab-primary-surface-color, white);\n",
       "                }\n",
       "\n",
       "                .geemap-colab .jupyter-button {\n",
       "                    --jp-layout-color3: var(--colab-primary-surface-color, white);\n",
       "                }\n",
       "            </style>\n",
       "            "
      ],
      "text/plain": [
       "<IPython.core.display.HTML object>"
      ]
     },
     "metadata": {},
     "output_type": "display_data"
    }
   ],
   "source": [
    "SMOD_COLOR_MAP = {\n",
    "    \"Rural\": \"#3CB371\",\n",
    "    \"Zona urbana\": \"#FFA500\",\n",
    "    \"Centro urbano\": \"#CD5C5C\",\n",
    "}\n",
    "\n",
    "DYNAMIC_WORLD_COLOR_MAP = {\n",
    "    \"Agua\": \"#419bdf\",\n",
    "    \"Árboles\": \"#397d49\",\n",
    "    \"Pastizales\": \"#88b053\",\n",
    "    \"Vegetación inundada\": \"#7a87c6\",\n",
    "    \"Cultivos\": \"#e49635\",\n",
    "    \"Construido\": \"#c4281b\",\n",
    "    \"Matorrales y arbustos\": \"#dfc35a\",\n",
    "}"
   ]
  },
  {
   "cell_type": "code",
   "execution_count": 18,
   "id": "79df9301",
   "metadata": {},
   "outputs": [
    {
     "data": {
      "text/html": [
       "\n",
       "            <style>\n",
       "                .geemap-dark {\n",
       "                    --jp-widgets-color: white;\n",
       "                    --jp-widgets-label-color: white;\n",
       "                    --jp-ui-font-color1: white;\n",
       "                    --jp-layout-color2: #454545;\n",
       "                    background-color: #383838;\n",
       "                }\n",
       "\n",
       "                .geemap-dark .jupyter-button {\n",
       "                    --jp-layout-color3: #383838;\n",
       "                }\n",
       "\n",
       "                .geemap-colab {\n",
       "                    background-color: var(--colab-primary-surface-color, white);\n",
       "                }\n",
       "\n",
       "                .geemap-colab .jupyter-button {\n",
       "                    --jp-layout-color3: var(--colab-primary-surface-color, white);\n",
       "                }\n",
       "            </style>\n",
       "            "
      ],
      "text/plain": [
       "<IPython.core.display.HTML object>"
      ]
     },
     "metadata": {},
     "output_type": "display_data"
    }
   ],
   "source": [
    "ee.Initialize(project=\"ee-ursa-test\")"
   ]
  },
  {
   "cell_type": "code",
   "execution_count": 19,
   "id": "79788961",
   "metadata": {},
   "outputs": [
    {
     "data": {
      "text/html": [
       "\n",
       "            <style>\n",
       "                .geemap-dark {\n",
       "                    --jp-widgets-color: white;\n",
       "                    --jp-widgets-label-color: white;\n",
       "                    --jp-ui-font-color1: white;\n",
       "                    --jp-layout-color2: #454545;\n",
       "                    background-color: #383838;\n",
       "                }\n",
       "\n",
       "                .geemap-dark .jupyter-button {\n",
       "                    --jp-layout-color3: #383838;\n",
       "                }\n",
       "\n",
       "                .geemap-colab {\n",
       "                    background-color: var(--colab-primary-surface-color, white);\n",
       "                }\n",
       "\n",
       "                .geemap-colab .jupyter-button {\n",
       "                    --jp-layout-color3: var(--colab-primary-surface-color, white);\n",
       "                }\n",
       "            </style>\n",
       "            "
      ],
      "text/plain": [
       "<IPython.core.display.HTML object>"
      ]
     },
     "metadata": {},
     "output_type": "display_data"
    }
   ],
   "source": [
    "data_path = Path(os.environ[\"DATA_PATH\"])\n",
    "ghsl_path = Path(os.environ[\"GHSL_PATH\"])\n",
    "figure_path = Path(\"./fig\")"
   ]
  },
  {
   "cell_type": "code",
   "execution_count": 20,
   "id": "f84da277",
   "metadata": {},
   "outputs": [
    {
     "data": {
      "text/html": [
       "\n",
       "            <style>\n",
       "                .geemap-dark {\n",
       "                    --jp-widgets-color: white;\n",
       "                    --jp-widgets-label-color: white;\n",
       "                    --jp-ui-font-color1: white;\n",
       "                    --jp-layout-color2: #454545;\n",
       "                    background-color: #383838;\n",
       "                }\n",
       "\n",
       "                .geemap-dark .jupyter-button {\n",
       "                    --jp-layout-color3: #383838;\n",
       "                }\n",
       "\n",
       "                .geemap-colab {\n",
       "                    background-color: var(--colab-primary-surface-color, white);\n",
       "                }\n",
       "\n",
       "                .geemap-colab .jupyter-button {\n",
       "                    --jp-layout-color3: var(--colab-primary-surface-color, white);\n",
       "                }\n",
       "            </style>\n",
       "            "
      ],
      "text/plain": [
       "<IPython.core.display.HTML object>"
      ]
     },
     "metadata": {},
     "output_type": "display_data"
    }
   ],
   "source": [
    "df_bounds = gpd.read_file(data_path / \"area_de_estudio\" / \"d_160101_ambito_estudio.shp\")\n",
    "crs = df_bounds.estimate_utm_crs()\n",
    "df_bounds = df_bounds.to_crs(crs)"
   ]
  },
  {
   "cell_type": "code",
   "execution_count": 21,
   "id": "139299c7",
   "metadata": {},
   "outputs": [
    {
     "data": {
      "text/html": [
       "\n",
       "            <style>\n",
       "                .geemap-dark {\n",
       "                    --jp-widgets-color: white;\n",
       "                    --jp-widgets-label-color: white;\n",
       "                    --jp-ui-font-color1: white;\n",
       "                    --jp-layout-color2: #454545;\n",
       "                    background-color: #383838;\n",
       "                }\n",
       "\n",
       "                .geemap-dark .jupyter-button {\n",
       "                    --jp-layout-color3: #383838;\n",
       "                }\n",
       "\n",
       "                .geemap-colab {\n",
       "                    background-color: var(--colab-primary-surface-color, white);\n",
       "                }\n",
       "\n",
       "                .geemap-colab .jupyter-button {\n",
       "                    --jp-layout-color3: var(--colab-primary-surface-color, white);\n",
       "                }\n",
       "            </style>\n",
       "            "
      ],
      "text/plain": [
       "<IPython.core.display.HTML object>"
      ]
     },
     "metadata": {},
     "output_type": "display_data"
    }
   ],
   "source": [
    "bounds = df_bounds.to_crs(\"ESRI:54009\")[\"geometry\"].item()"
   ]
  },
  {
   "cell_type": "code",
   "execution_count": 22,
   "id": "60dacc98",
   "metadata": {},
   "outputs": [
    {
     "data": {
      "text/html": [
       "\n",
       "            <style>\n",
       "                .geemap-dark {\n",
       "                    --jp-widgets-color: white;\n",
       "                    --jp-widgets-label-color: white;\n",
       "                    --jp-ui-font-color1: white;\n",
       "                    --jp-layout-color2: #454545;\n",
       "                    background-color: #383838;\n",
       "                }\n",
       "\n",
       "                .geemap-dark .jupyter-button {\n",
       "                    --jp-layout-color3: #383838;\n",
       "                }\n",
       "\n",
       "                .geemap-colab {\n",
       "                    background-color: var(--colab-primary-surface-color, white);\n",
       "                }\n",
       "\n",
       "                .geemap-colab .jupyter-button {\n",
       "                    --jp-layout-color3: var(--colab-primary-surface-color, white);\n",
       "                }\n",
       "            </style>\n",
       "            "
      ],
      "text/plain": [
       "<IPython.core.display.HTML object>"
      ]
     },
     "metadata": {},
     "output_type": "display_data"
    }
   ],
   "source": [
    "bounds_latlon = (\n",
    "    df_bounds.assign(geometry=lambda df: df[\"geometry\"].simplify(100))\n",
    "    .to_crs(\"EPSG:4326\")[\"geometry\"]\n",
    "    .item()\n",
    ")\n",
    "\n",
    "bounds_ee = ee.geometry.Geometry.Polygon(list(bounds_latlon.exterior.coords))"
   ]
  },
  {
   "cell_type": "markdown",
   "id": "8285124a",
   "metadata": {},
   "source": [
    "# Population"
   ]
  },
  {
   "cell_type": "code",
   "execution_count": 23,
   "id": "5fd4c811",
   "metadata": {},
   "outputs": [
    {
     "data": {
      "text/html": [
       "\n",
       "            <style>\n",
       "                .geemap-dark {\n",
       "                    --jp-widgets-color: white;\n",
       "                    --jp-widgets-label-color: white;\n",
       "                    --jp-ui-font-color1: white;\n",
       "                    --jp-layout-color2: #454545;\n",
       "                    background-color: #383838;\n",
       "                }\n",
       "\n",
       "                .geemap-dark .jupyter-button {\n",
       "                    --jp-layout-color3: #383838;\n",
       "                }\n",
       "\n",
       "                .geemap-colab {\n",
       "                    background-color: var(--colab-primary-surface-color, white);\n",
       "                }\n",
       "\n",
       "                .geemap-colab .jupyter-button {\n",
       "                    --jp-layout-color3: var(--colab-primary-surface-color, white);\n",
       "                }\n",
       "            </style>\n",
       "            "
      ],
      "text/plain": [
       "<IPython.core.display.HTML object>"
      ]
     },
     "metadata": {},
     "output_type": "display_data"
    }
   ],
   "source": [
    "rows = []\n",
    "for year in range(1975, 2021, 5):\n",
    "    with (\n",
    "        rio.open(ghsl_path / \"POP_1000\" / f\"{year}.tif\", nodata=0) as ds_pop,\n",
    "        rio.open(ghsl_path / \"SMOD_1000\" / f\"{year}.tif\", nodata=-200) as ds_smod,\n",
    "    ):\n",
    "        pop, _ = rio_mask.mask(ds_pop, [bounds], crop=True, nodata=0)\n",
    "        smod, _ = rio_mask.mask(ds_smod, [bounds], crop=True, nodata=-200)\n",
    "\n",
    "        pop = pop.squeeze()\n",
    "\n",
    "        smod = smod.squeeze()\n",
    "        smod[smod == -200] = 0\n",
    "        smod = smod // 10\n",
    "\n",
    "    count = np.bincount(smod.flatten(), weights=pop.flatten())\n",
    "    for smod_val in range(4):\n",
    "        try:\n",
    "            dpop = count[smod_val]\n",
    "        except IndexError:\n",
    "            dpop = 0\n",
    "        rows.append({\"year\": year, \"smod\": smod_val, \"pop\": dpop})\n",
    "\n",
    "df_pop = (\n",
    "    pd.DataFrame(rows)\n",
    "    .query(\"smod != 0\")\n",
    "    .pivot_table(index=\"year\", columns=\"smod\", values=\"pop\", fill_value=0)\n",
    "    .rename(columns={1: \"Rural\", 2: \"Zona urbana\", 3: \"Centro urbano\"})\n",
    ")"
   ]
  },
  {
   "cell_type": "code",
   "execution_count": 24,
   "id": "6c365eff",
   "metadata": {},
   "outputs": [
    {
     "data": {
      "text/html": [
       "\n",
       "            <style>\n",
       "                .geemap-dark {\n",
       "                    --jp-widgets-color: white;\n",
       "                    --jp-widgets-label-color: white;\n",
       "                    --jp-ui-font-color1: white;\n",
       "                    --jp-layout-color2: #454545;\n",
       "                    background-color: #383838;\n",
       "                }\n",
       "\n",
       "                .geemap-dark .jupyter-button {\n",
       "                    --jp-layout-color3: #383838;\n",
       "                }\n",
       "\n",
       "                .geemap-colab {\n",
       "                    background-color: var(--colab-primary-surface-color, white);\n",
       "                }\n",
       "\n",
       "                .geemap-colab .jupyter-button {\n",
       "                    --jp-layout-color3: var(--colab-primary-surface-color, white);\n",
       "                }\n",
       "            </style>\n",
       "            "
      ],
      "text/plain": [
       "<IPython.core.display.HTML object>"
      ]
     },
     "metadata": {},
     "output_type": "display_data"
    },
    {
     "data": {
      "image/png": "[encoded data removed]",
      "text/plain": [
       "<Figure size 1000x400 with 1 Axes>"
      ]
     },
     "metadata": {},
     "output_type": "display_data"
    }
   ],
   "source": [
    "sns.set_theme(style=\"ticks\", font_scale=1.2)\n",
    "\n",
    "fig, ax = plt.subplots(figsize=(10, 4))\n",
    "df_pop.plot.bar(stacked=True, width=0.8, ax=ax, color=SMOD_COLOR_MAP)\n",
    "ax.set_xlabel(\"\")\n",
    "ax.set_ylabel(\"Población\")\n",
    "ax.yaxis.set_major_formatter(mtick.StrMethodFormatter(\"{x:,.0f}\"))\n",
    "ax.legend(title=None)\n",
    "fig.savefig(figure_path / \"pop.jpg\", bbox_inches=\"tight\", dpi=300)"
   ]
  },
  {
   "cell_type": "markdown",
   "id": "a0118d6b",
   "metadata": {},
   "source": [
    "# Built"
   ]
  },
  {
   "cell_type": "markdown",
   "id": "c93668d2",
   "metadata": {},
   "source": [
    "## Area"
   ]
  },
  {
   "cell_type": "code",
   "execution_count": 25,
   "id": "71cc99a8",
   "metadata": {},
   "outputs": [
    {
     "data": {
      "text/html": [
       "\n",
       "            <style>\n",
       "                .geemap-dark {\n",
       "                    --jp-widgets-color: white;\n",
       "                    --jp-widgets-label-color: white;\n",
       "                    --jp-ui-font-color1: white;\n",
       "                    --jp-layout-color2: #454545;\n",
       "                    background-color: #383838;\n",
       "                }\n",
       "\n",
       "                .geemap-dark .jupyter-button {\n",
       "                    --jp-layout-color3: #383838;\n",
       "                }\n",
       "\n",
       "                .geemap-colab {\n",
       "                    background-color: var(--colab-primary-surface-color, white);\n",
       "                }\n",
       "\n",
       "                .geemap-colab .jupyter-button {\n",
       "                    --jp-layout-color3: var(--colab-primary-surface-color, white);\n",
       "                }\n",
       "            </style>\n",
       "            "
      ],
      "text/plain": [
       "<IPython.core.display.HTML object>"
      ]
     },
     "metadata": {},
     "output_type": "display_data"
    }
   ],
   "source": [
    "built_areas = []\n",
    "built_arr = []\n",
    "\n",
    "for year in range(1975, 2021, 5):\n",
    "    with rio.open(ghsl_path / \"BUILT_100\" / f\"{year}.tif\", nodata=0) as ds:\n",
    "        profile = ds.profile\n",
    "        built, transform = rio_mask.mask(ds, [bounds], crop=True, nodata=0)\n",
    "        built = built.squeeze()\n",
    "\n",
    "    built_areas.append({\"year\": year, \"area\": built.astype(float).sum()})\n",
    "\n",
    "    mask = (built >= (0.2 * 100 * 100)) * year\n",
    "    built_arr.append(mask)\n",
    "\n",
    "df_area = (\n",
    "    pd.DataFrame(built_areas, columns=[\"year\", \"area\"]).set_index(\"year\").divide(1e6)\n",
    ")"
   ]
  },
  {
   "cell_type": "code",
   "execution_count": 26,
   "id": "55198f58",
   "metadata": {},
   "outputs": [
    {
     "data": {
      "text/html": [
       "\n",
       "            <style>\n",
       "                .geemap-dark {\n",
       "                    --jp-widgets-color: white;\n",
       "                    --jp-widgets-label-color: white;\n",
       "                    --jp-ui-font-color1: white;\n",
       "                    --jp-layout-color2: #454545;\n",
       "                    background-color: #383838;\n",
       "                }\n",
       "\n",
       "                .geemap-dark .jupyter-button {\n",
       "                    --jp-layout-color3: #383838;\n",
       "                }\n",
       "\n",
       "                .geemap-colab {\n",
       "                    background-color: var(--colab-primary-surface-color, white);\n",
       "                }\n",
       "\n",
       "                .geemap-colab .jupyter-button {\n",
       "                    --jp-layout-color3: var(--colab-primary-surface-color, white);\n",
       "                }\n",
       "            </style>\n",
       "            "
      ],
      "text/plain": [
       "<IPython.core.display.HTML object>"
      ]
     },
     "metadata": {},
     "output_type": "display_data"
    },
    {
     "data": {
      "image/png": "[encoded data removed]",
      "text/plain": [
       "<Figure size 1000x400 with 1 Axes>"
      ]
     },
     "metadata": {},
     "output_type": "display_data"
    }
   ],
   "source": [
    "sns.set_theme(font_scale=1.2, style=\"ticks\")\n",
    "\n",
    "fig, ax = plt.subplots(figsize=(10, 4))\n",
    "df_area.plot(ax=ax, legend=False)\n",
    "ax.fill_between(df_area.index, df_area[\"area\"], alpha=0.3)\n",
    "\n",
    "ax.yaxis.set_major_formatter(mtick.StrMethodFormatter(\"{x:,.0f}\"))\n",
    "\n",
    "ax.set_xlabel(\"\")\n",
    "ax.set_ylabel(\"Área construida (km²)\")\n",
    "\n",
    "ax.set_xlim(1975, 2020)\n",
    "ax.set_ylim(0, 13)\n",
    "fig.savefig(figure_path / \"built_area.jpg\", bbox_inches=\"tight\", dpi=300)"
   ]
  },
  {
   "cell_type": "code",
   "execution_count": 27,
   "id": "cd280c3d",
   "metadata": {},
   "outputs": [
    {
     "data": {
      "text/html": [
       "\n",
       "            <style>\n",
       "                .geemap-dark {\n",
       "                    --jp-widgets-color: white;\n",
       "                    --jp-widgets-label-color: white;\n",
       "                    --jp-ui-font-color1: white;\n",
       "                    --jp-layout-color2: #454545;\n",
       "                    background-color: #383838;\n",
       "                }\n",
       "\n",
       "                .geemap-dark .jupyter-button {\n",
       "                    --jp-layout-color3: #383838;\n",
       "                }\n",
       "\n",
       "                .geemap-colab {\n",
       "                    background-color: var(--colab-primary-surface-color, white);\n",
       "                }\n",
       "\n",
       "                .geemap-colab .jupyter-button {\n",
       "                    --jp-layout-color3: var(--colab-primary-surface-color, white);\n",
       "                }\n",
       "            </style>\n",
       "            "
      ],
      "text/plain": [
       "<IPython.core.display.HTML object>"
      ]
     },
     "metadata": {},
     "output_type": "display_data"
    },
    {
     "name": "stdout",
     "output_type": "stream",
     "text": [
      "\\begin{tabular}{lr}\n",
      "\\toprule\n",
      " & area \\\\\n",
      "year &  \\\\\n",
      "\\midrule\n",
      "1980 & 0.357643 \\\\\n",
      "1985 & 0.372604 \\\\\n",
      "1990 & 0.389512 \\\\\n",
      "1995 & 1.132988 \\\\\n",
      "2000 & 1.240055 \\\\\n",
      "2005 & 0.637509 \\\\\n",
      "2010 & 0.697805 \\\\\n",
      "2015 & 0.680560 \\\\\n",
      "2020 & 0.543733 \\\\\n",
      "\\bottomrule\n",
      "\\end{tabular}\n",
      "\n"
     ]
    }
   ],
   "source": [
    "print(df_area.diff().iloc[1:].to_latex())"
   ]
  },
  {
   "cell_type": "code",
   "execution_count": 46,
   "id": "93f49f80",
   "metadata": {},
   "outputs": [
    {
     "data": {
      "text/html": [
       "\n",
       "            <style>\n",
       "                .geemap-dark {\n",
       "                    --jp-widgets-color: white;\n",
       "                    --jp-widgets-label-color: white;\n",
       "                    --jp-ui-font-color1: white;\n",
       "                    --jp-layout-color2: #454545;\n",
       "                    background-color: #383838;\n",
       "                }\n",
       "\n",
       "                .geemap-dark .jupyter-button {\n",
       "                    --jp-layout-color3: #383838;\n",
       "                }\n",
       "\n",
       "                .geemap-colab {\n",
       "                    background-color: var(--colab-primary-surface-color, white);\n",
       "                }\n",
       "\n",
       "                .geemap-colab .jupyter-button {\n",
       "                    --jp-layout-color3: var(--colab-primary-surface-color, white);\n",
       "                }\n",
       "            </style>\n",
       "            "
      ],
      "text/plain": [
       "<IPython.core.display.HTML object>"
      ]
     },
     "metadata": {},
     "output_type": "display_data"
    }
   ],
   "source": [
    "built_arr = []\n",
    "\n",
    "for year in range(1975, 2021, 5):\n",
    "    with rio.open(ghsl_path / \"BUILT_100\" / f\"{year}.tif\", nodata=0) as ds:\n",
    "        profile = ds.profile\n",
    "        built, transform = rio_mask.mask(ds, [bounds], crop=True, nodata=65535)\n",
    "        built = built.squeeze()\n",
    "        built_arr.append(built)\n",
    "\n",
    "        crs = ds.crs\n",
    "\n",
    "built_arr = np.array(built_arr).astype(np.uint16)\n",
    "\n",
    "with rio.open(\n",
    "    \"./rasters/built_area.tif\",\n",
    "    \"w\",\n",
    "    driver=\"GTiff\",\n",
    "    height=built_arr.shape[1],\n",
    "    width=built_arr.shape[2],\n",
    "    count=built_arr.shape[0],\n",
    "    dtype=built_arr.dtype,\n",
    "    crs=crs,\n",
    "    transform=transform,\n",
    "    nodata=65535,\n",
    ") as ds:\n",
    "    ds.write(built_arr)"
   ]
  },
  {
   "cell_type": "markdown",
   "id": "875d884b",
   "metadata": {},
   "source": [
    "## Year"
   ]
  },
  {
   "cell_type": "code",
   "execution_count": 28,
   "id": "f8cde5d3",
   "metadata": {},
   "outputs": [
    {
     "data": {
      "text/html": [
       "\n",
       "            <style>\n",
       "                .geemap-dark {\n",
       "                    --jp-widgets-color: white;\n",
       "                    --jp-widgets-label-color: white;\n",
       "                    --jp-ui-font-color1: white;\n",
       "                    --jp-layout-color2: #454545;\n",
       "                    background-color: #383838;\n",
       "                }\n",
       "\n",
       "                .geemap-dark .jupyter-button {\n",
       "                    --jp-layout-color3: #383838;\n",
       "                }\n",
       "\n",
       "                .geemap-colab {\n",
       "                    background-color: var(--colab-primary-surface-color, white);\n",
       "                }\n",
       "\n",
       "                .geemap-colab .jupyter-button {\n",
       "                    --jp-layout-color3: var(--colab-primary-surface-color, white);\n",
       "                }\n",
       "            </style>\n",
       "            "
      ],
      "text/plain": [
       "<IPython.core.display.HTML object>"
      ]
     },
     "metadata": {},
     "output_type": "display_data"
    },
    {
     "name": "stderr",
     "output_type": "stream",
     "text": [
      "/var/folders/yq/0mz24vy927s9m5vjh6gqb6040000gn/T/ipykernel_16512/3285329835.py:3: RuntimeWarning: All-NaN slice encountered\n",
      "  built_arr = np.nanmin(built_arr, axis=0)\n"
     ]
    }
   ],
   "source": [
    "built_arr = np.array(built_arr).astype(float)\n",
    "built_arr[built_arr == 0] = np.nan\n",
    "built_arr = np.nanmin(built_arr, axis=0)\n",
    "built_arr[np.isnan(built_arr)] = 0\n",
    "built_arr = built_arr.astype(np.uint16)"
   ]
  },
  {
   "cell_type": "code",
   "execution_count": 29,
   "id": "90c4e8d2",
   "metadata": {},
   "outputs": [
    {
     "data": {
      "text/html": [
       "\n",
       "            <style>\n",
       "                .geemap-dark {\n",
       "                    --jp-widgets-color: white;\n",
       "                    --jp-widgets-label-color: white;\n",
       "                    --jp-ui-font-color1: white;\n",
       "                    --jp-layout-color2: #454545;\n",
       "                    background-color: #383838;\n",
       "                }\n",
       "\n",
       "                .geemap-dark .jupyter-button {\n",
       "                    --jp-layout-color3: #383838;\n",
       "                }\n",
       "\n",
       "                .geemap-colab {\n",
       "                    background-color: var(--colab-primary-surface-color, white);\n",
       "                }\n",
       "\n",
       "                .geemap-colab .jupyter-button {\n",
       "                    --jp-layout-color3: var(--colab-primary-surface-color, white);\n",
       "                }\n",
       "            </style>\n",
       "            "
      ],
      "text/plain": [
       "<IPython.core.display.HTML object>"
      ]
     },
     "metadata": {},
     "output_type": "display_data"
    }
   ],
   "source": [
    "with rio.open(\n",
    "    \"./rasters/built_year.tif\",\n",
    "    \"w\",\n",
    "    height=built_arr.shape[0],\n",
    "    width=built_arr.shape[1],\n",
    "    count=1,\n",
    "    dtype=\"uint16\",\n",
    "    crs=\"ESRI:54009\",\n",
    "    transform=transform,\n",
    "    compress=\"lzw\",\n",
    "    nodata=0,\n",
    ") as ds:\n",
    "    ds.write(built_arr, 1)"
   ]
  },
  {
   "cell_type": "markdown",
   "id": "a57d9b20",
   "metadata": {},
   "source": [
    "# Land cover"
   ]
  },
  {
   "cell_type": "code",
   "execution_count": 30,
   "id": "5b5cda36",
   "metadata": {},
   "outputs": [
    {
     "data": {
      "text/html": [
       "\n",
       "            <style>\n",
       "                .geemap-dark {\n",
       "                    --jp-widgets-color: white;\n",
       "                    --jp-widgets-label-color: white;\n",
       "                    --jp-ui-font-color1: white;\n",
       "                    --jp-layout-color2: #454545;\n",
       "                    background-color: #383838;\n",
       "                }\n",
       "\n",
       "                .geemap-dark .jupyter-button {\n",
       "                    --jp-layout-color3: #383838;\n",
       "                }\n",
       "\n",
       "                .geemap-colab {\n",
       "                    background-color: var(--colab-primary-surface-color, white);\n",
       "                }\n",
       "\n",
       "                .geemap-colab .jupyter-button {\n",
       "                    --jp-layout-color3: var(--colab-primary-surface-color, white);\n",
       "                }\n",
       "            </style>\n",
       "            "
      ],
      "text/plain": [
       "<IPython.core.display.HTML object>"
      ]
     },
     "metadata": {},
     "output_type": "display_data"
    }
   ],
   "source": [
    "land_cover_labels = [\n",
    "    \"water\",\n",
    "    \"trees\",\n",
    "    \"grass\",\n",
    "    \"flooded_vegetation\",\n",
    "    \"crops\",\n",
    "    \"shrub_and_scrub\",\n",
    "    \"built\",\n",
    "    \"bare\",\n",
    "    \"snow_and_ice\",\n",
    "]"
   ]
  },
  {
   "cell_type": "code",
   "execution_count": 34,
   "id": "ab31ad4a",
   "metadata": {},
   "outputs": [
    {
     "data": {
      "text/html": [
       "\n",
       "            <style>\n",
       "                .geemap-dark {\n",
       "                    --jp-widgets-color: white;\n",
       "                    --jp-widgets-label-color: white;\n",
       "                    --jp-ui-font-color1: white;\n",
       "                    --jp-layout-color2: #454545;\n",
       "                    background-color: #383838;\n",
       "                }\n",
       "\n",
       "                .geemap-dark .jupyter-button {\n",
       "                    --jp-layout-color3: #383838;\n",
       "                }\n",
       "\n",
       "                .geemap-colab {\n",
       "                    background-color: var(--colab-primary-surface-color, white);\n",
       "                }\n",
       "\n",
       "                .geemap-colab .jupyter-button {\n",
       "                    --jp-layout-color3: var(--colab-primary-surface-color, white);\n",
       "                }\n",
       "            </style>\n",
       "            "
      ],
      "text/plain": [
       "<IPython.core.display.HTML object>"
      ]
     },
     "metadata": {},
     "output_type": "display_data"
    },
    {
     "data": {
      "application/vnd.jupyter.widget-view+json": {
       "model_id": "6f343df1b31e4a3f88d8df0c0b9308a0",
       "version_major": 2,
       "version_minor": 0
      },
      "text/plain": [
       "2016.tif: |          | 0.00/1.83M (raw) [  0.0%] in 00:00 (eta:     ?)"
      ]
     },
     "metadata": {},
     "output_type": "display_data"
    },
    {
     "data": {
      "application/vnd.jupyter.widget-view+json": {
       "model_id": "2f60cedc0647403b84d0c036b884c38f",
       "version_major": 2,
       "version_minor": 0
      },
      "text/plain": [
       "2017.tif: |          | 0.00/1.83M (raw) [  0.0%] in 00:00 (eta:     ?)"
      ]
     },
     "metadata": {},
     "output_type": "display_data"
    },
    {
     "data": {
      "application/vnd.jupyter.widget-view+json": {
       "model_id": "d722dbc597284c1d97d5bc050cdf7aeb",
       "version_major": 2,
       "version_minor": 0
      },
      "text/plain": [
       "2018.tif: |          | 0.00/1.83M (raw) [  0.0%] in 00:00 (eta:     ?)"
      ]
     },
     "metadata": {},
     "output_type": "display_data"
    },
    {
     "data": {
      "application/vnd.jupyter.widget-view+json": {
       "model_id": "1edabb41fcfe4c5fb2cc6c4d515c34ff",
       "version_major": 2,
       "version_minor": 0
      },
      "text/plain": [
       "2019.tif: |          | 0.00/1.83M (raw) [  0.0%] in 00:00 (eta:     ?)"
      ]
     },
     "metadata": {},
     "output_type": "display_data"
    },
    {
     "data": {
      "application/vnd.jupyter.widget-view+json": {
       "model_id": "baef5060eb2b4cafb418d80ada7ced14",
       "version_major": 2,
       "version_minor": 0
      },
      "text/plain": [
       "2020.tif: |          | 0.00/1.83M (raw) [  0.0%] in 00:00 (eta:     ?)"
      ]
     },
     "metadata": {},
     "output_type": "display_data"
    },
    {
     "data": {
      "application/vnd.jupyter.widget-view+json": {
       "model_id": "c913bbb07263484d9d29c22f930c94dd",
       "version_major": 2,
       "version_minor": 0
      },
      "text/plain": [
       "2021.tif: |          | 0.00/1.83M (raw) [  0.0%] in 00:00 (eta:     ?)"
      ]
     },
     "metadata": {},
     "output_type": "display_data"
    },
    {
     "data": {
      "application/vnd.jupyter.widget-view+json": {
       "model_id": "4150045ecd144d2ebd6da98d4d29f589",
       "version_major": 2,
       "version_minor": 0
      },
      "text/plain": [
       "2022.tif: |          | 0.00/1.83M (raw) [  0.0%] in 00:00 (eta:     ?)"
      ]
     },
     "metadata": {},
     "output_type": "display_data"
    },
    {
     "data": {
      "application/vnd.jupyter.widget-view+json": {
       "model_id": "ed4fc8ca339648389dc2201b34bf1cfc",
       "version_major": 2,
       "version_minor": 0
      },
      "text/plain": [
       "2023.tif: |          | 0.00/1.83M (raw) [  0.0%] in 00:00 (eta:     ?)"
      ]
     },
     "metadata": {},
     "output_type": "display_data"
    },
    {
     "data": {
      "application/vnd.jupyter.widget-view+json": {
       "model_id": "caa8f60e64fc4fadb343302da37ce7a0",
       "version_major": 2,
       "version_minor": 0
      },
      "text/plain": [
       "2024.tif: |          | 0.00/1.83M (raw) [  0.0%] in 00:00 (eta:     ?)"
      ]
     },
     "metadata": {},
     "output_type": "display_data"
    }
   ],
   "source": [
    "rows = []\n",
    "for year in range(2016, 2025):\n",
    "    img = (\n",
    "        ee.ImageCollection(\"GOOGLE/DYNAMICWORLD/V1\")\n",
    "        .filterBounds(bounds_ee)\n",
    "        .filterDate(f\"{year}-01-01\", f\"{year}-12-31\")\n",
    "        .select(\"label\")\n",
    "        .mode()\n",
    "        .clip(bounds_ee)\n",
    "    )\n",
    "\n",
    "    img_area = ee.image.Image.pixelArea().addBands(img)\n",
    "\n",
    "    reduced = img_area.reduceRegion(\n",
    "        reducer=ee.Reducer.sum().group(groupField=1, groupName=\"label\"),\n",
    "        geometry=bounds_ee,\n",
    "        scale=30,\n",
    "        maxPixels=1e9,\n",
    "    ).getInfo()\n",
    "\n",
    "    groups = reduced[\"groups\"]\n",
    "    for group in groups:\n",
    "        group[\"year\"] = year\n",
    "\n",
    "    rows.extend(groups)\n",
    "\n",
    "    geemap.download_ee_image(\n",
    "        img,\n",
    "        f\"./rasters/land_cover/{year}.tif\",\n",
    "        scale=30,\n",
    "        region=bounds_ee,\n",
    "        crs=\"EPSG:4326\",\n",
    "        unmask_value=99,\n",
    "    )\n",
    "\n",
    "df_land_cover = (\n",
    "    pd.DataFrame(rows)\n",
    "    .assign(\n",
    "        label=lambda df: df[\"label\"].map(\n",
    "            {i: land_cover_labels[i] for i in range(len(land_cover_labels))},\n",
    "        ),\n",
    "    )\n",
    "    .pivot_table(index=\"year\", columns=\"label\", values=\"sum\", fill_value=0)\n",
    ")"
   ]
  },
  {
   "cell_type": "code",
   "execution_count": 41,
   "id": "cfd9a69a",
   "metadata": {},
   "outputs": [
    {
     "data": {
      "text/html": [
       "\n",
       "            <style>\n",
       "                .geemap-dark {\n",
       "                    --jp-widgets-color: white;\n",
       "                    --jp-widgets-label-color: white;\n",
       "                    --jp-ui-font-color1: white;\n",
       "                    --jp-layout-color2: #454545;\n",
       "                    background-color: #383838;\n",
       "                }\n",
       "\n",
       "                .geemap-dark .jupyter-button {\n",
       "                    --jp-layout-color3: #383838;\n",
       "                }\n",
       "\n",
       "                .geemap-colab {\n",
       "                    background-color: var(--colab-primary-surface-color, white);\n",
       "                }\n",
       "\n",
       "                .geemap-colab .jupyter-button {\n",
       "                    --jp-layout-color3: var(--colab-primary-surface-color, white);\n",
       "                }\n",
       "            </style>\n",
       "            "
      ],
      "text/plain": [
       "<IPython.core.display.HTML object>"
      ]
     },
     "metadata": {},
     "output_type": "display_data"
    }
   ],
   "source": [
    "land_cover_agg = []\n",
    "for year in range(2016, 2025):\n",
    "    with rio.open(f\"./rasters/land_cover/{year}.tif\", nodata=99) as ds:\n",
    "        land_cover_agg.append(ds.read(1))\n",
    "        transform = ds.transform\n",
    "        crs = ds.crs\n",
    "\n",
    "land_cover_agg = np.array(land_cover_agg).astype(np.uint8)\n",
    "\n",
    "with rio.open(\n",
    "    \"./rasters/land_cover.tif\",\n",
    "    \"w\",\n",
    "    driver=\"GTiff\",\n",
    "    height=land_cover_agg.shape[1],\n",
    "    width=land_cover_agg.shape[2],\n",
    "    count=land_cover_agg.shape[0],\n",
    "    dtype=land_cover_agg.dtype,\n",
    "    crs=ds.crs,\n",
    "    transform=ds.transform,\n",
    "    nodata=99\n",
    ") as ds:\n",
    "    ds.write(land_cover_agg)"
   ]
  },
  {
   "cell_type": "code",
   "execution_count": 39,
   "id": "5208fa80",
   "metadata": {},
   "outputs": [
    {
     "data": {
      "text/html": [
       "\n",
       "            <style>\n",
       "                .geemap-dark {\n",
       "                    --jp-widgets-color: white;\n",
       "                    --jp-widgets-label-color: white;\n",
       "                    --jp-ui-font-color1: white;\n",
       "                    --jp-layout-color2: #454545;\n",
       "                    background-color: #383838;\n",
       "                }\n",
       "\n",
       "                .geemap-dark .jupyter-button {\n",
       "                    --jp-layout-color3: #383838;\n",
       "                }\n",
       "\n",
       "                .geemap-colab {\n",
       "                    background-color: var(--colab-primary-surface-color, white);\n",
       "                }\n",
       "\n",
       "                .geemap-colab .jupyter-button {\n",
       "                    --jp-layout-color3: var(--colab-primary-surface-color, white);\n",
       "                }\n",
       "            </style>\n",
       "            "
      ],
      "text/plain": [
       "<IPython.core.display.HTML object>"
      ]
     },
     "metadata": {},
     "output_type": "display_data"
    },
    {
     "data": {
      "text/plain": [
       "array([[[99, 99, 99, ..., 99, 99, 99],\n",
       "        [99, 99, 99, ..., 99, 99, 99],\n",
       "        [99, 99, 99, ..., 99, 99, 99],\n",
       "        ...,\n",
       "        [99, 99, 99, ..., 99, 99, 99],\n",
       "        [99, 99, 99, ..., 99, 99, 99],\n",
       "        [99, 99, 99, ..., 99, 99, 99]],\n",
       "\n",
       "       [[99, 99, 99, ..., 99, 99, 99],\n",
       "        [99, 99, 99, ..., 99, 99, 99],\n",
       "        [99, 99, 99, ..., 99, 99, 99],\n",
       "        ...,\n",
       "        [99, 99, 99, ..., 99, 99, 99],\n",
       "        [99, 99, 99, ..., 99, 99, 99],\n",
       "        [99, 99, 99, ..., 99, 99, 99]],\n",
       "\n",
       "       [[99, 99, 99, ..., 99, 99, 99],\n",
       "        [99, 99, 99, ..., 99, 99, 99],\n",
       "        [99, 99, 99, ..., 99, 99, 99],\n",
       "        ...,\n",
       "        [99, 99, 99, ..., 99, 99, 99],\n",
       "        [99, 99, 99, ..., 99, 99, 99],\n",
       "        [99, 99, 99, ..., 99, 99, 99]],\n",
       "\n",
       "       ...,\n",
       "\n",
       "       [[99, 99, 99, ..., 99, 99, 99],\n",
       "        [99, 99, 99, ..., 99, 99, 99],\n",
       "        [99, 99, 99, ..., 99, 99, 99],\n",
       "        ...,\n",
       "        [99, 99, 99, ..., 99, 99, 99],\n",
       "        [99, 99, 99, ..., 99, 99, 99],\n",
       "        [99, 99, 99, ..., 99, 99, 99]],\n",
       "\n",
       "       [[99, 99, 99, ..., 99, 99, 99],\n",
       "        [99, 99, 99, ..., 99, 99, 99],\n",
       "        [99, 99, 99, ..., 99, 99, 99],\n",
       "        ...,\n",
       "        [99, 99, 99, ..., 99, 99, 99],\n",
       "        [99, 99, 99, ..., 99, 99, 99],\n",
       "        [99, 99, 99, ..., 99, 99, 99]],\n",
       "\n",
       "       [[99, 99, 99, ..., 99, 99, 99],\n",
       "        [99, 99, 99, ..., 99, 99, 99],\n",
       "        [99, 99, 99, ..., 99, 99, 99],\n",
       "        ...,\n",
       "        [99, 99, 99, ..., 99, 99, 99],\n",
       "        [99, 99, 99, ..., 99, 99, 99],\n",
       "        [99, 99, 99, ..., 99, 99, 99]]],\n",
       "      shape=(9, 1524, 1204), dtype=uint8)"
      ]
     },
     "execution_count": 39,
     "metadata": {},
     "output_type": "execute_result"
    }
   ],
   "source": [
    "land_cover_agg"
   ]
  },
  {
   "cell_type": "code",
   "execution_count": null,
   "id": "c6fe605f",
   "metadata": {},
   "outputs": [],
   "source": []
  },
  {
   "cell_type": "code",
   "execution_count": null,
   "id": "1585e129",
   "metadata": {},
   "outputs": [
    {
     "data": {
      "text/html": [
       "\n",
       "            <style>\n",
       "                .geemap-dark {\n",
       "                    --jp-widgets-color: white;\n",
       "                    --jp-widgets-label-color: white;\n",
       "                    --jp-ui-font-color1: white;\n",
       "                    --jp-layout-color2: #454545;\n",
       "                    background-color: #383838;\n",
       "                }\n",
       "\n",
       "                .geemap-dark .jupyter-button {\n",
       "                    --jp-layout-color3: #383838;\n",
       "                }\n",
       "\n",
       "                .geemap-colab {\n",
       "                    background-color: var(--colab-primary-surface-color, white);\n",
       "                }\n",
       "\n",
       "                .geemap-colab .jupyter-button {\n",
       "                    --jp-layout-color3: var(--colab-primary-surface-color, white);\n",
       "                }\n",
       "            </style>\n",
       "            "
      ],
      "text/plain": [
       "<IPython.core.display.HTML object>"
      ]
     },
     "metadata": {},
     "output_type": "display_data"
    }
   ],
   "source": [
    "unwanted_classes = (df_land_cover.divide(df_land_cover.sum(axis=1), axis=0) < 0.01).all(\n",
    "    axis=0,\n",
    ")\n",
    "df_land_cover_filtered = (\n",
    "    df_land_cover.loc[:, ~unwanted_classes]\n",
    "    .rename(\n",
    "        columns={\n",
    "            \"bare\": \"Baldío\",\n",
    "            \"built\": \"Construido\",\n",
    "            \"crops\": \"Cultivos\",\n",
    "            \"flooded_vegetation\": \"Vegetación inundada\",\n",
    "            \"grass\": \"Pastizales\",\n",
    "            \"shrub_and_scrub\": \"Matorrales y arbustos\",\n",
    "            \"snow_and_ice\": \"Nieve y hielo\",\n",
    "            \"trees\": \"Árboles\",\n",
    "            \"water\": \"Agua\",\n",
    "        },\n",
    "    )\n",
    "    .divide(1e6)\n",
    ")"
   ]
  },
  {
   "cell_type": "code",
   "execution_count": null,
   "id": "8e0bb19d",
   "metadata": {},
   "outputs": [
    {
     "data": {
      "text/html": [
       "\n",
       "            <style>\n",
       "                .geemap-dark {\n",
       "                    --jp-widgets-color: white;\n",
       "                    --jp-widgets-label-color: white;\n",
       "                    --jp-ui-font-color1: white;\n",
       "                    --jp-layout-color2: #454545;\n",
       "                    background-color: #383838;\n",
       "                }\n",
       "\n",
       "                .geemap-dark .jupyter-button {\n",
       "                    --jp-layout-color3: #383838;\n",
       "                }\n",
       "\n",
       "                .geemap-colab {\n",
       "                    background-color: var(--colab-primary-surface-color, white);\n",
       "                }\n",
       "\n",
       "                .geemap-colab .jupyter-button {\n",
       "                    --jp-layout-color3: var(--colab-primary-surface-color, white);\n",
       "                }\n",
       "            </style>\n",
       "            "
      ],
      "text/plain": [
       "<IPython.core.display.HTML object>"
      ]
     },
     "metadata": {},
     "output_type": "display_data"
    },
    {
     "data": {
      "image/png": "[encoded data removed]",
      "text/plain": [
       "<Figure size 1000x400 with 1 Axes>"
      ]
     },
     "metadata": {},
     "output_type": "display_data"
    }
   ],
   "source": [
    "sns.set_theme(font_scale=1.2, style=\"ticks\")\n",
    "\n",
    "temp = df_land_cover_filtered.loc[2024].sort_values(ascending=True)\n",
    "\n",
    "fig, ax = plt.subplots(figsize=(10, 4))\n",
    "temp.plot.barh(\n",
    "    color=[DYNAMIC_WORLD_COLOR_MAP[label] for label in temp.index], width=0.8,\n",
    ")\n",
    "ax.set_xlabel(\"Área (km²)\")\n",
    "ax.set_ylabel(\"\")\n",
    "fig.savefig(figure_path / \"land_cover_2024.jpg\", bbox_inches=\"tight\", dpi=300)"
   ]
  },
  {
   "cell_type": "code",
   "execution_count": null,
   "id": "c6d8964b",
   "metadata": {},
   "outputs": [
    {
     "data": {
      "text/html": [
       "\n",
       "            <style>\n",
       "                .geemap-dark {\n",
       "                    --jp-widgets-color: white;\n",
       "                    --jp-widgets-label-color: white;\n",
       "                    --jp-ui-font-color1: white;\n",
       "                    --jp-layout-color2: #454545;\n",
       "                    background-color: #383838;\n",
       "                }\n",
       "\n",
       "                .geemap-dark .jupyter-button {\n",
       "                    --jp-layout-color3: #383838;\n",
       "                }\n",
       "\n",
       "                .geemap-colab {\n",
       "                    background-color: var(--colab-primary-surface-color, white);\n",
       "                }\n",
       "\n",
       "                .geemap-colab .jupyter-button {\n",
       "                    --jp-layout-color3: var(--colab-primary-surface-color, white);\n",
       "                }\n",
       "            </style>\n",
       "            "
      ],
      "text/plain": [
       "<IPython.core.display.HTML object>"
      ]
     },
     "metadata": {},
     "output_type": "display_data"
    },
    {
     "data": {
      "image/png": "[encoded data removed]",
      "text/plain": [
       "<Figure size 1000x400 with 1 Axes>"
      ]
     },
     "metadata": {},
     "output_type": "display_data"
    }
   ],
   "source": [
    "sns.set_theme(style=\"ticks\", font_scale=1.2)\n",
    "\n",
    "fig, ax = plt.subplots(figsize=(10, 4))\n",
    "df_land_cover_filtered[\"Construido\"].plot(ax=ax, c=DYNAMIC_WORLD_COLOR_MAP[\"Construido\"])\n",
    "ax.fill_between(\n",
    "    df_land_cover_filtered.index, df_land_cover_filtered[\"Construido\"], alpha=0.3, facecolor=DYNAMIC_WORLD_COLOR_MAP[\"Construido\"]\n",
    ")\n",
    "ax.set_xlabel(\"\")\n",
    "ax.set_ylabel(\"Área (km²)\")\n",
    "ax.set_xlim(2016, 2024)\n",
    "ax.set_ylim(\n",
    "    df_land_cover_filtered[\"Construido\"].min(),\n",
    "    df_land_cover_filtered[\"Construido\"].max() + 1,\n",
    ")\n",
    "fig.savefig(figure_path / \"land_cover_construido.jpg\", bbox_inches=\"tight\", dpi=300)"
   ]
  },
  {
   "cell_type": "code",
   "execution_count": null,
   "id": "82315f26",
   "metadata": {},
   "outputs": [
    {
     "data": {
      "text/html": [
       "\n",
       "            <style>\n",
       "                .geemap-dark {\n",
       "                    --jp-widgets-color: white;\n",
       "                    --jp-widgets-label-color: white;\n",
       "                    --jp-ui-font-color1: white;\n",
       "                    --jp-layout-color2: #454545;\n",
       "                    background-color: #383838;\n",
       "                }\n",
       "\n",
       "                .geemap-dark .jupyter-button {\n",
       "                    --jp-layout-color3: #383838;\n",
       "                }\n",
       "\n",
       "                .geemap-colab {\n",
       "                    background-color: var(--colab-primary-surface-color, white);\n",
       "                }\n",
       "\n",
       "                .geemap-colab .jupyter-button {\n",
       "                    --jp-layout-color3: var(--colab-primary-surface-color, white);\n",
       "                }\n",
       "            </style>\n",
       "            "
      ],
      "text/plain": [
       "<IPython.core.display.HTML object>"
      ]
     },
     "metadata": {},
     "output_type": "display_data"
    },
    {
     "data": {
      "image/png": "[encoded data removed]",
      "text/plain": [
       "<Figure size 1000x400 with 1 Axes>"
      ]
     },
     "metadata": {},
     "output_type": "display_data"
    }
   ],
   "source": [
    "sns.set_theme(font_scale=1.2, style=\"ticks\")\n",
    "\n",
    "fig, ax = plt.subplots(figsize=(10, 4))\n",
    "df_land_cover_filtered.plot.area(ax=ax, color=DYNAMIC_WORLD_COLOR_MAP)\n",
    "ax.legend(title=None)\n",
    "ax.set_xlabel(\"\")\n",
    "ax.set_ylabel(\"Área (km²)\")\n",
    "ax.set_xlim(2016, 2024)\n",
    "ax.set_ylim(0, 434)\n",
    "\n",
    "fig.savefig(figure_path / \"land_cover.jpg\", bbox_inches=\"tight\", dpi=300)"
   ]
  },
  {
   "cell_type": "code",
   "execution_count": null,
   "id": "eec71556",
   "metadata": {},
   "outputs": [
    {
     "data": {
      "text/html": [
       "\n",
       "            <style>\n",
       "                .geemap-dark {\n",
       "                    --jp-widgets-color: white;\n",
       "                    --jp-widgets-label-color: white;\n",
       "                    --jp-ui-font-color1: white;\n",
       "                    --jp-layout-color2: #454545;\n",
       "                    background-color: #383838;\n",
       "                }\n",
       "\n",
       "                .geemap-dark .jupyter-button {\n",
       "                    --jp-layout-color3: #383838;\n",
       "                }\n",
       "\n",
       "                .geemap-colab {\n",
       "                    background-color: var(--colab-primary-surface-color, white);\n",
       "                }\n",
       "\n",
       "                .geemap-colab .jupyter-button {\n",
       "                    --jp-layout-color3: var(--colab-primary-surface-color, white);\n",
       "                }\n",
       "            </style>\n",
       "            "
      ],
      "text/plain": [
       "<IPython.core.display.HTML object>"
      ]
     },
     "metadata": {},
     "output_type": "display_data"
    },
    {
     "name": "stdout",
     "output_type": "stream",
     "text": [
      "\\begin{tabular}{lr}\n",
      "\\toprule\n",
      " & Construido \\\\\n",
      "year &  \\\\\n",
      "\\midrule\n",
      "2017 & 5.8 \\\\\n",
      "2018 & 1.2 \\\\\n",
      "2019 & 0.0 \\\\\n",
      "2020 & 1.3 \\\\\n",
      "2021 & 2.3 \\\\\n",
      "2022 & 0.5 \\\\\n",
      "2023 & 1.6 \\\\\n",
      "2024 & -1.6 \\\\\n",
      "\\bottomrule\n",
      "\\end{tabular}\n",
      "\n"
     ]
    }
   ],
   "source": [
    "print(df_land_cover_filtered[\"Construido\"].diff().iloc[1:].to_latex(float_format=\"%.1f\"))"
   ]
  },
  {
   "cell_type": "code",
   "execution_count": null,
   "id": "d153a7e9",
   "metadata": {},
   "outputs": [
    {
     "data": {
      "text/html": [
       "\n",
       "            <style>\n",
       "                .geemap-dark {\n",
       "                    --jp-widgets-color: white;\n",
       "                    --jp-widgets-label-color: white;\n",
       "                    --jp-ui-font-color1: white;\n",
       "                    --jp-layout-color2: #454545;\n",
       "                    background-color: #383838;\n",
       "                }\n",
       "\n",
       "                .geemap-dark .jupyter-button {\n",
       "                    --jp-layout-color3: #383838;\n",
       "                }\n",
       "\n",
       "                .geemap-colab {\n",
       "                    background-color: var(--colab-primary-surface-color, white);\n",
       "                }\n",
       "\n",
       "                .geemap-colab .jupyter-button {\n",
       "                    --jp-layout-color3: var(--colab-primary-surface-color, white);\n",
       "                }\n",
       "            </style>\n",
       "            "
      ],
      "text/plain": [
       "<IPython.core.display.HTML object>"
      ]
     },
     "metadata": {},
     "output_type": "display_data"
    },
    {
     "data": {
      "application/vnd.jupyter.widget-view+json": {
       "model_id": "1d67fc05dae34b7eb2268fca312dacd0",
       "version_major": 2,
       "version_minor": 0
      },
      "text/plain": [
       "Map(center=[-3.75, -73.25], controls=(WidgetControl(options=['position', 'transparent_bg'], position='topright…"
      ]
     },
     "execution_count": 27,
     "metadata": {},
     "output_type": "execute_result"
    }
   ],
   "source": [
    "m = geemap.Map(center=[-3.75, -73.25], zoom=10, height=800)\n",
    "m.addLayer(img)\n",
    "m"
   ]
  }
 ],
 "metadata": {
  "kernelspec": {
   "display_name": ".venv",
   "language": "python",
   "name": "python3"
  },
  "language_info": {
   "codemirror_mode": {
    "name": "ipython",
    "version": 3
   },
   "file_extension": ".py",
   "mimetype": "text/x-python",
   "name": "python",
   "nbconvert_exporter": "python",
   "pygments_lexer": "ipython3",
   "version": "3.11.9"
  }
 },
 "nbformat": 4,
 "nbformat_minor": 5
}
